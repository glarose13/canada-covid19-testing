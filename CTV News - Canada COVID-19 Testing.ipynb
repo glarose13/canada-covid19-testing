{
 "cells": [
  {
   "cell_type": "code",
   "execution_count": 21,
   "metadata": {},
   "outputs": [],
   "source": [
    "import pandas as pd\n",
    "import numpy as np\n",
    "import requests\n",
    "import matplotlib.pyplot as plt\n",
    "from matplotlib.ticker import MaxNLocator\n",
    "import matplotlib.dates as mdates\n",
    "import time\n",
    "now = time.strftime('%d%m%Y%H%M%S')"
   ]
  },
  {
   "cell_type": "code",
   "execution_count": 22,
   "metadata": {},
   "outputs": [],
   "source": [
    "# get covid-19 test data tables from CTV News site and create dfs by province\n",
    "url_ctv = 'https://www.ctvnews.ca/health/coronavirus/tracking-every-case-of-covid-19-in-canada-1.4852102'\n",
    "html_ctv = requests.get(url_ctv).content\n",
    "df_list_ca = pd.read_html(html_ctv)\n",
    "df_ca = df_list_ca[0:2]\n",
    "df_bc = df_list_ca[2:5]\n",
    "df_ab = df_list_ca[5:8]\n",
    "df_sk = df_list_ca[8:11]\n",
    "df_mb = df_list_ca[11:14]\n",
    "df_on = df_list_ca[14:17]\n",
    "df_qc = df_list_ca[17:20]\n",
    "df_nb = df_list_ca[20:23]\n",
    "df_ns = df_list_ca[23:26]\n",
    "df_pe = df_list_ca[26:29]\n",
    "df_nf = df_list_ca[29:32]"
   ]
  },
  {
   "cell_type": "code",
   "execution_count": 23,
   "metadata": {},
   "outputs": [],
   "source": [
    "# isolate test number from each table - there has got to be a better way\n",
    "bc_t = df_bc[2]\n",
    "bc_t.to_csv('bc_t.csv')\n",
    "bc_t1 = pd.read_csv('bc_t.csv')\n",
    "bc_tests = bc_t1['Administered'].values\n",
    "\n",
    "ab_t = df_ab[2]\n",
    "ab_t.to_csv('ab_t.csv')\n",
    "ab_t1 = pd.read_csv('ab_t.csv')\n",
    "ab_tests = ab_t1['Administered'].values\n",
    "\n",
    "sk_t = df_sk[2]\n",
    "sk_t.to_csv('sk_t.csv')\n",
    "sk_t1 = pd.read_csv('sk_t.csv')\n",
    "sk_tests = sk_t1['Administered'].values\n",
    "\n",
    "mb_t = df_mb[2]\n",
    "mb_t.to_csv('mb_t.csv')\n",
    "mb_t1 = pd.read_csv('mb_t.csv')\n",
    "mb_tests = mb_t1['Administered'].values\n",
    "\n",
    "on_t = df_on[2]\n",
    "on_t.to_csv('on_t.csv')\n",
    "on_t1 = pd.read_csv('on_t.csv')\n",
    "on_tests = on_t1['Administered'].values\n",
    "\n",
    "qc_t = df_qc[2]\n",
    "qc_t.to_csv('qc_t.csv')\n",
    "qc_t1 = pd.read_csv('qc_t.csv')\n",
    "qc_tests = qc_t1['Administered'].values\n",
    "\n",
    "nb_t = df_nb[2]\n",
    "nb_t.to_csv('nb_t.csv')\n",
    "nb_t1 = pd.read_csv('nb_t.csv')\n",
    "nb_tests = nb_t1['Administered'].values\n",
    "\n",
    "ns_t = df_ns[2]\n",
    "ns_t.to_csv('ns_t.csv')\n",
    "ns_t1 = pd.read_csv('ns_t.csv')\n",
    "ns_tests = ns_t1['Administered'].values\n",
    "\n",
    "pe_t = df_pe[2]\n",
    "pe_t.to_csv('pe_t.csv')\n",
    "pe_t1 = pd.read_csv('pe_t.csv')\n",
    "pe_tests = pe_t1['Administered'].values\n",
    "\n",
    "nf_t = df_nf[2]\n",
    "nf_t.to_csv('nf_t.csv')\n",
    "nf_t = pd.read_csv('nf_t.csv')\n",
    "nf_tests = nf_t['Administered'].values"
   ]
  },
  {
   "cell_type": "code",
   "execution_count": 24,
   "metadata": {},
   "outputs": [
    {
     "name": "stdout",
     "output_type": "stream",
     "text": [
      "<class 'str'>\n",
      "---\n"
     ]
    }
   ],
   "source": [
    "# New Brunswick the last province not reporting testing numbers, check for data is a string\n",
    "print(type(nb_tests[0]))\n",
    "print(nb_tests[0])"
   ]
  },
  {
   "cell_type": "code",
   "execution_count": 5,
   "metadata": {},
   "outputs": [
    {
     "data": {
      "text/plain": [
       "array([0], dtype=object)"
      ]
     },
     "execution_count": 5,
     "metadata": {},
     "output_type": "execute_result"
    }
   ],
   "source": [
    "# if nb_test is still string, insert 0 and delete string\n",
    "if nb_tests[0].isdigit() == False:\n",
    "    nb_tests = np.insert(nb_tests, 1, 0)\n",
    "    nb_tests = np.delete(nb_tests, 0)\n",
    "nb_tests"
   ]
  },
  {
   "cell_type": "code",
   "execution_count": 6,
   "metadata": {},
   "outputs": [
    {
     "data": {
      "text/plain": [
       "[17912, 23742, 3917, 3801, 26419, 10935, 0, 1835, 240, 901]"
      ]
     },
     "execution_count": 6,
     "metadata": {},
     "output_type": "execute_result"
    }
   ],
   "source": [
    "# create province list and concat prov tests arrays\n",
    "prov_list = ['BC', 'AB', 'SK', 'MB', 'ON', 'QC', 'NB', 'NS', 'PE', 'NF']\n",
    "arrays = [bc_tests, ab_tests, sk_tests, mb_tests, on_tests, qc_tests, nb_tests, ns_tests, pe_tests, nf_tests]\n",
    "prov_tests = list(np.concatenate(arrays))\n",
    "prov_tests"
   ]
  },
  {
   "cell_type": "code",
   "execution_count": 7,
   "metadata": {},
   "outputs": [
    {
     "data": {
      "text/html": [
       "<div>\n",
       "<style scoped>\n",
       "    .dataframe tbody tr th:only-of-type {\n",
       "        vertical-align: middle;\n",
       "    }\n",
       "\n",
       "    .dataframe tbody tr th {\n",
       "        vertical-align: top;\n",
       "    }\n",
       "\n",
       "    .dataframe thead th {\n",
       "        text-align: right;\n",
       "    }\n",
       "</style>\n",
       "<table border=\"1\" class=\"dataframe\">\n",
       "  <thead>\n",
       "    <tr style=\"text-align: right;\">\n",
       "      <th></th>\n",
       "      <th>Province</th>\n",
       "      <th>Test Count</th>\n",
       "    </tr>\n",
       "  </thead>\n",
       "  <tbody>\n",
       "    <tr>\n",
       "      <th>0</th>\n",
       "      <td>BC</td>\n",
       "      <td>17912</td>\n",
       "    </tr>\n",
       "    <tr>\n",
       "      <th>1</th>\n",
       "      <td>AB</td>\n",
       "      <td>23742</td>\n",
       "    </tr>\n",
       "    <tr>\n",
       "      <th>2</th>\n",
       "      <td>SK</td>\n",
       "      <td>3917</td>\n",
       "    </tr>\n",
       "    <tr>\n",
       "      <th>3</th>\n",
       "      <td>MB</td>\n",
       "      <td>3801</td>\n",
       "    </tr>\n",
       "    <tr>\n",
       "      <th>4</th>\n",
       "      <td>ON</td>\n",
       "      <td>26419</td>\n",
       "    </tr>\n",
       "    <tr>\n",
       "      <th>5</th>\n",
       "      <td>QC</td>\n",
       "      <td>10935</td>\n",
       "    </tr>\n",
       "    <tr>\n",
       "      <th>6</th>\n",
       "      <td>NB</td>\n",
       "      <td>0</td>\n",
       "    </tr>\n",
       "    <tr>\n",
       "      <th>7</th>\n",
       "      <td>NS</td>\n",
       "      <td>1835</td>\n",
       "    </tr>\n",
       "    <tr>\n",
       "      <th>8</th>\n",
       "      <td>PE</td>\n",
       "      <td>240</td>\n",
       "    </tr>\n",
       "    <tr>\n",
       "      <th>9</th>\n",
       "      <td>NF</td>\n",
       "      <td>901</td>\n",
       "    </tr>\n",
       "  </tbody>\n",
       "</table>\n",
       "</div>"
      ],
      "text/plain": [
       "  Province  Test Count\n",
       "0       BC       17912\n",
       "1       AB       23742\n",
       "2       SK        3917\n",
       "3       MB        3801\n",
       "4       ON       26419\n",
       "5       QC       10935\n",
       "6       NB           0\n",
       "7       NS        1835\n",
       "8       PE         240\n",
       "9       NF         901"
      ]
     },
     "execution_count": 7,
     "metadata": {},
     "output_type": "execute_result"
    }
   ],
   "source": [
    "# create test dataframe\n",
    "df_tests = pd.DataFrame(list(zip(prov_list, prov_tests)), columns=['Province', 'Test Count'])\n",
    "df_tests"
   ]
  },
  {
   "cell_type": "code",
   "execution_count": 9,
   "metadata": {},
   "outputs": [
    {
     "data": {
      "image/png": "[encoded data removed]",
      "text/plain": [
       "<Figure size 432x288 with 1 Axes>"
      ]
     },
     "metadata": {},
     "output_type": "display_data"
    }
   ],
   "source": [
    "# pie chart for canada covid-19 tests\n",
    "can_prov = df_tests['Province'].values\n",
    "can_counts = df_tests['Test Count'].values\n",
    "explode = (0.2, 0.2, 0.2, 0.2, 0.2, 0.2, 0.2, 0.2, 0.2, 0.2)\n",
    "colors = ['green', 'blue', 'purple', 'magenta', 'red', 'yellow', 'orange', 'maroon', 'black', 'pink']\n",
    "plt.pie(can_counts,labels=can_prov,autopct='%1.1f%%', startangle=15, shadow = True, colors= colors, explode=explode)\n",
    "plt.title('COVID-19 Canada Testing')\n",
    "plt.axis('equal')\n",
    "plt.show()"
   ]
  },
  {
   "cell_type": "code",
   "execution_count": 10,
   "metadata": {},
   "outputs": [],
   "source": [
    "# save to csv run covid-19 test data\n",
    "df_tests.to_csv('covid19_can_testing'+ now +'.csv')"
   ]
  },
  {
   "cell_type": "code",
   "execution_count": 11,
   "metadata": {},
   "outputs": [],
   "source": [
    "df_tests_sorted = df_tests.sort_values('Test Count', ascending=False, ignore_index=True)"
   ]
  },
  {
   "cell_type": "code",
   "execution_count": 12,
   "metadata": {},
   "outputs": [],
   "source": [
    "total_tests = df_tests_sorted['Test Count'].values.sum()"
   ]
  },
  {
   "cell_type": "code",
   "execution_count": 13,
   "metadata": {},
   "outputs": [
    {
     "data": {
      "image/png": "[encoded data removed]",
      "text/plain": [
       "<Figure size 432x288 with 1 Axes>"
      ]
     },
     "metadata": {
      "needs_background": "light"
     },
     "output_type": "display_data"
    }
   ],
   "source": [
    "# bar chart provincial covid-19 test data, with summary of total tests\n",
    "can_prov = df_tests_sorted['Province'].values\n",
    "can_counts = df_tests_sorted['Test Count'].values\n",
    "colors = ['green', 'blue', 'purple', 'magenta', 'red', \\\n",
    "          'yellow', 'orange', 'maroon', 'peru', 'firebrick']\n",
    "fig, ax = plt.subplots()  # Create a figure containing a single axes.\n",
    "\n",
    "plt.xticks(rotation=90, va='top', ha='left', fontsize=10)\n",
    "\n",
    "ax.grid(color='grey', linestyle='-', linewidth=0.2)\n",
    "ax.bar(can_prov, can_counts, color=colors)  # Plot some data on the axes.\n",
    "ax.annotate(str(can_counts[0]), xy=(can_prov[0],can_counts[0] ), color=\"black\", ha=\"center\")\n",
    "ax.annotate(str(can_counts[1]), xy=(can_prov[1],can_counts[1] ), color=\"black\", ha=\"center\")\n",
    "ax.annotate(str(can_counts[2]), xy=(can_prov[2],can_counts[2] ), color=\"black\", ha=\"center\")\n",
    "ax.annotate(str(can_counts[3]), xy=(can_prov[3],can_counts[3] ), color=\"black\", ha=\"center\")\n",
    "ax.annotate(str(can_counts[4]), xy=(can_prov[4],can_counts[4] ), color=\"black\", ha=\"center\")\n",
    "ax.annotate(str(can_counts[5]), xy=(can_prov[5],can_counts[5] ), color=\"black\", ha=\"center\")\n",
    "ax.annotate(str(can_counts[6]), xy=(can_prov[6],can_counts[6] ), color=\"black\", ha=\"center\")\n",
    "ax.annotate(str(can_counts[7]), xy=(can_prov[7],can_counts[7] ), color=\"black\", ha=\"center\")\n",
    "ax.annotate(str(can_counts[8]), xy=(can_prov[8],can_counts[8] ), color=\"black\", ha=\"center\")\n",
    "ax.annotate(str(can_counts[9]), xy=(can_prov[9],can_counts[9] ), color=\"black\", ha=\"center\")\n",
    "\n",
    "from matplotlib.offsetbox import AnchoredText\n",
    "at = AnchoredText('Total Tests: ' + str(total_tests),\n",
    "                  prop=dict(size=10), frameon=True,\n",
    "                  loc='upper right',\n",
    "                  )\n",
    "at.patch.set_boxstyle(\"round,pad=0.,rounding_size=0.2\")\n",
    "ax.add_artist(at)\n",
    "\n",
    "\n",
    "\n",
    "plt.title('COVID-19 Canada Testing')\n",
    "#plt.legend(can_prov, loc='upper right')\n",
    "plt.savefig('can_covid-19_total_testing'+ now +'.png')\n",
    "plt.show()"
   ]
  },
  {
   "cell_type": "code",
   "execution_count": null,
   "metadata": {},
   "outputs": [],
   "source": []
  }
 ],
 "metadata": {
  "kernelspec": {
   "display_name": "Python (base)",
   "language": "python",
   "name": "python3"
  },
  "language_info": {
   "codemirror_mode": {
    "name": "ipython",
    "version": 3
   },
   "file_extension": ".py",
   "mimetype": "text/x-python",
   "name": "python",
   "nbconvert_exporter": "python",
   "pygments_lexer": "ipython3",
   "version": "3.7.6"
  }
 },
 "nbformat": 4,
 "nbformat_minor": 4
}
